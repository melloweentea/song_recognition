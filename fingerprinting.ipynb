{
 "cells": [
  {
   "cell_type": "code",
   "execution_count": 2,
   "metadata": {},
   "outputs": [],
   "source": [
    "import os\n",
    "import librosa\n",
    "import numpy as np\n",
    "import pickle\n",
    "import hashlib\n",
    "from scipy.ndimage import maximum_filter, binary_erosion, generate_binary_structure"
   ]
  },
  {
   "cell_type": "code",
   "execution_count": 4,
   "metadata": {},
   "outputs": [],
   "source": [
    "# Parameters\n",
    "FAN_VALUE = 15\n",
    "MAX_TIME_DELTA = 200\n",
    "DB_FILE = 'fingerprints.pkl'\n",
    "\n",
    "def fingerprint(audio, sr):\n",
    "    S = np.abs(librosa.stft(audio))\n",
    "    S_db = librosa.amplitude_to_db(S, ref=np.max)\n",
    "\n",
    "    struct = generate_binary_structure(2, 1)\n",
    "    local_max = maximum_filter(S_db, footprint=struct) == S_db\n",
    "    background = (S_db == 0)\n",
    "    detected_peaks = local_max ^ binary_erosion(background)\n",
    "\n",
    "    peaks = np.argwhere(detected_peaks)\n",
    "    hashes = []\n",
    "\n",
    "    for i in range(len(peaks)):\n",
    "        for j in range(1, FAN_VALUE):\n",
    "            if i + j < len(peaks):\n",
    "                freq1, time1 = peaks[i]\n",
    "                freq2, time2 = peaks[i + j]\n",
    "                delta_t = time2 - time1\n",
    "                if 0 < delta_t <= MAX_TIME_DELTA:\n",
    "                    hash_input = f\"{freq1}|{freq2}|{delta_t}\"\n",
    "                    hash_val = hashlib.sha1(hash_input.encode()).hexdigest()[:20]\n",
    "                    hashes.append((hash_val, time1))\n",
    "    return hashes\n",
    "\n",
    "def build_database(folder_path, db_file=DB_FILE):\n",
    "    database = {}\n",
    "    for fname in os.listdir(folder_path):\n",
    "        if fname.lower().endswith(('.mp3', '.wav', '.flac')):\n",
    "            path = os.path.join(folder_path, fname)\n",
    "            print(f\"Processing: {fname}\")\n",
    "            audio, sr = librosa.load(path, sr=None, mono=True)\n",
    "            hashes = fingerprint(audio, sr)\n",
    "            database[fname] = hashes\n",
    "\n",
    "    with open(db_file, 'wb') as f:\n",
    "        pickle.dump(database, f)\n",
    "    return database\n",
    "\n",
    "def load_database(db_file=DB_FILE):\n",
    "    if os.path.exists(db_file):\n",
    "        with open(db_file, 'rb') as f:\n",
    "            return pickle.load(f)\n",
    "    return {}\n",
    "\n",
    "def match_sample(sample_hashes, database):\n",
    "    match_counts = {}\n",
    "    for song, hashes in database.items():\n",
    "        hash_set = set(h[0] for h in hashes)\n",
    "        match_count = sum(1 for h, _ in sample_hashes if h in hash_set)\n",
    "        match_counts[song] = match_count\n",
    "\n",
    "    if match_counts:\n",
    "        best_match = max(match_counts, key=match_counts.get)\n",
    "        return best_match, match_counts[best_match]\n",
    "    return None, 0\n"
   ]
  },
  {
   "cell_type": "code",
   "execution_count": 5,
   "metadata": {},
   "outputs": [
    {
     "name": "stdout",
     "output_type": "stream",
     "text": [
      "Processing: 05. Loveland, Island.wav\n",
      "Processing: 06. Love Talkin' (honey it's you).wav\n"
     ]
    },
    {
     "ename": "",
     "evalue": "",
     "output_type": "error",
     "traceback": [
      "\u001b[1;31mThe Kernel crashed while executing code in the current cell or a previous cell. \n",
      "\u001b[1;31mPlease review the code in the cell(s) to identify a possible cause of the failure. \n",
      "\u001b[1;31mClick <a href='https://aka.ms/vscodeJupyterKernelCrash'>here</a> for more info. \n",
      "\u001b[1;31mView Jupyter <a href='command:jupyter.viewOutput'>log</a> for further details."
     ]
    }
   ],
   "source": [
    "build_database(\"wav_files\", \"fingerprints.pkl\")"
   ]
  },
  {
   "cell_type": "code",
   "execution_count": null,
   "metadata": {},
   "outputs": [],
   "source": []
  }
 ],
 "metadata": {
  "kernelspec": {
   "display_name": "py39",
   "language": "python",
   "name": "python3"
  },
  "language_info": {
   "codemirror_mode": {
    "name": "ipython",
    "version": 3
   },
   "file_extension": ".py",
   "mimetype": "text/x-python",
   "name": "python",
   "nbconvert_exporter": "python",
   "pygments_lexer": "ipython3",
   "version": "3.9.16"
  }
 },
 "nbformat": 4,
 "nbformat_minor": 2
}
